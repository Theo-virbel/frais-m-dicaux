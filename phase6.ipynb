{
 "cells": [
  {
   "cell_type": "code",
   "execution_count": null,
   "metadata": {},
   "outputs": [],
   "source": [
    "# Sauvegarde du modèle final\n",
    "model_filename = 'model_final.pkl'  # Nom du fichier pour sauvegarder le modèle\n",
    "joblib.dump(best_model, model_filename)\n",
    "print(f\"Le modèle {best_model_name} a été sauvegardé sous le nom {model_filename}\")\n",
    "\n",
    "# Chargement du modèle\n",
    "loaded_model = joblib.load(model_filename)\n",
    "print(f\"Le modèle {best_model_name} a été chargé depuis le fichier {model_filename}\")\n",
    "\n",
    "# Utilisation du modèle pour faire des prédictions sur de nouvelles données\n",
    "new_data = pd.DataFrame({\n",
    "    'age': [25, 45],\n",
    "    'sex_male': [1, 0],  # Encodage one-hot de la variable 'sex'\n",
    "    'bmi': [30.0, 27.0],\n",
    "    'children': [1, 2],\n",
    "    'smoker_yes': [0, 1],  # Encodage one-hot de la variable 'smoker'\n",
    "    'region_northeast': [0, 1],  # Encodage one-hot de la variable 'region'\n",
    "    'region_northwest': [1, 0],\n",
    "    'region_southeast': [0, 0],\n",
    "    'region_southwest': [0, 1]\n",
    "})\n",
    "\n",
    "# Prétraitement des nouvelles données (encodage des variables catégorielles et standardisation)\n",
    "new_data = scaler.transform(new_data)\n",
    "\n",
    "# Prédictions avec le modèle chargé\n",
    "new_predictions = loaded_model.predict(new_data)\n",
    "print(\"Prédictions pour de nouvelles données :\")\n",
    "print(new_predictions)\n"
   ]
  }
 ],
 "metadata": {
  "language_info": {
   "name": "python"
  }
 },
 "nbformat": 4,
 "nbformat_minor": 2
}
