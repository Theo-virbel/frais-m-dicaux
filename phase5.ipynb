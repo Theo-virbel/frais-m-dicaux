{
 "cells": [
  {
   "cell_type": "code",
   "execution_count": null,
   "metadata": {},
   "outputs": [],
   "source": [
    "import pandas as pd\n",
    "import matplotlib.pyplot as plt\n",
    "import seaborn as sns\n",
    "\n",
    "# Sélection du modèle avec la meilleure performance en fonction de R²\n",
    "best_model_name = performance_metrics['R2'].idxmax()  # Le modèle avec le meilleur R2\n",
    "best_r2 = performance_metrics.loc[best_model_name, 'R2']\n",
    "best_model = models[best_model_name]\n",
    "y_pred_best = best_model.predict(X_test)\n",
    "\n",
    "# Affichage de l'importance des caractéristiques pour le modèle avec la meilleure performance\n",
    "if best_model_name == \"Forêt Aléatoire\":\n",
    "    rf_model = models[best_model_name]\n",
    "    feature_importance = rf_model.feature_importances_\n",
    "    features = X_train.columns\n",
    "    feature_importance_df = pd.DataFrame({\n",
    "        'Feature': features,\n",
    "        'Importance': feature_importance\n",
    "    }).sort_values(by='Importance', ascending=False)\n",
    "\n",
    "    print(f\"\\nImportance des caractéristiques pour le modèle {best_model_name} :\")\n",
    "    print(feature_importance_df)\n",
    "    \n",
    "    # Visualisation de l'importance des caractéristiques\n",
    "    plt.figure(figsize=(10, 6))\n",
    "    sns.barplot(x='Importance', y='Feature', data=feature_importance_df)\n",
    "    plt.title(f'Importance des caractéristiques pour {best_model_name}')\n",
    "    plt.show()\n",
    "\n",
    "# Résumé des prédictions pour les 10 premières lignes\n",
    "predictions_summary = pd.DataFrame({\n",
    "    'Valeur réelle': y_test[:10],\n",
    "    'Prédiction': y_pred_best[:10],\n",
    "    'Erreur': y_test[:10] - y_pred_best[:10]\n",
    "})\n",
    "\n",
    "print(f\"\\nRésumé des prédictions pour le modèle {best_model_name} :\")\n",
    "print(predictions_summary)\n",
    "\n",
    "# Affichage du R2 pour le modèle avec la meilleure performance\n",
    "print(f\"\\nR² pour le modèle {best_model_name} : {best_r2}\")\n"
   ]
  }
 ],
 "metadata": {
  "language_info": {
   "name": "python"
  }
 },
 "nbformat": 4,
 "nbformat_minor": 2
}
